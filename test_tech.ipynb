{
 "cells": [
  {
   "cell_type": "markdown",
   "id": "48c815bc",
   "metadata": {},
   "source": [
    "Importation des bibliothèques et chargement du dataset"
   ]
  },
  {
   "cell_type": "code",
   "execution_count": 7,
   "id": "8a451026",
   "metadata": {},
   "outputs": [],
   "source": [
    "import pandas as pd\n",
    "import numpy as np\n",
    "from sklearn.model_selection import train_test_split\n",
    "from sklearn.impute import SimpleImputer\n",
    "from sklearn.preprocessing import LabelEncoder\n",
    "from sklearn.svm import SVC\n",
    "from sklearn.ensemble import RandomForestClassifier\n",
    "from sklearn.neighbors import KNeighborsClassifier\n",
    "from sklearn.linear_model import LogisticRegression\n",
    "from sklearn.neural_network import MLPClassifier\n",
    "from xgboost import XGBClassifier \n",
    "import matplotlib.pyplot as plt\n",
    "import seaborn as sns\n",
    "from sklearn.preprocessing import StandardScaler\n",
    "from sklearn.metrics import f1_score, classification_report, confusion_matrix, ConfusionMatrixDisplay\n",
    "\n",
    "# Chargement du fichier Excel\n",
    "df = pd.read_excel('data.xlsx')  # assure-toi que le fichier est dans le bon dossier\n"
   ]
  },
  {
   "cell_type": "markdown",
   "id": "1e3cc113",
   "metadata": {},
   "source": [
    "Aperçu de dataset"
   ]
  },
  {
   "cell_type": "code",
   "execution_count": 8,
   "id": "04c17271",
   "metadata": {},
   "outputs": [
    {
     "name": "stdout",
     "output_type": "stream",
     "text": [
      "   ID  Gender  Nationality  Major  Level  IE1  SMSK3  RAS1  RAS2  SMSK1  ...  \\\n",
      "0   1       0            1      0      2    4      3     4     4      2  ...   \n",
      "1   2       0            0      0      2    4      4     4     4      3  ...   \n",
      "2   3       0            1      0      1    3      2     3     4      3  ...   \n",
      "3   4       1            1      1      3    4      4     4     4      4  ...   \n",
      "4   5       0            0      0      2    4      3     3     4      3  ...   \n",
      "\n",
      "   IM3  IM4  IM5  IM6   W1   W2   W3  Employed  Score  Class  \n",
      "0    4    4    4    4  4.0  4.0  4.0       1.0   3.20      1  \n",
      "1    4    3    4    4  3.0  4.0  3.0       0.0   3.82      1  \n",
      "2    3    4    4    3  4.0  4.0  2.0       1.0   3.75      1  \n",
      "3    4    4    4    4  3.0  4.0  4.0       1.0   3.70      1  \n",
      "4    4    3    3    3  4.0  4.0  2.0       1.0   3.82      0  \n",
      "\n",
      "[5 rows x 39 columns]\n",
      "\n",
      "Dimensions du dataset : (260, 39)\n",
      "\n",
      "Colonnes du dataset : Index(['ID', 'Gender', 'Nationality', 'Major', 'Level', 'IE1', 'SMSK3', 'RAS1',\n",
      "       'RAS2', 'SMSK1', 'SMSK4', 'IE2', 'TL1', 'RAS3', 'IE3', 'RAS4', 'RAS5',\n",
      "       'IE4', 'SMSK2', 'TL2', 'TL3', 'PSD1', 'PSD2', 'PSD3', 'IE5', 'PSD4',\n",
      "       'PSD5', 'IM1', 'IM2', 'IM3', 'IM4', 'IM5', 'IM6', 'W1', 'W2', 'W3',\n",
      "       'Employed', 'Score', 'Class'],\n",
      "      dtype='object')\n"
     ]
    }
   ],
   "source": [
    "\n",
    "print(df.head())\n",
    "print(\"\\nDimensions du dataset :\", df.shape)\n",
    "print(\"\\nColonnes du dataset :\",df.columns)"
   ]
  },
  {
   "cell_type": "markdown",
   "id": "9433c36e",
   "metadata": {},
   "source": [
    "Analyse exploratoire de base\n"
   ]
  },
  {
   "cell_type": "markdown",
   "id": "cc99eacd",
   "metadata": {},
   "source": [
    "1. Redondances"
   ]
  },
  {
   "cell_type": "code",
   "execution_count": 9,
   "id": "a61ff978",
   "metadata": {},
   "outputs": [
    {
     "name": "stdout",
     "output_type": "stream",
     "text": [
      "Index(['Gender', 'Nationality', 'Major', 'Level', 'IE1', 'SMSK3', 'RAS1',\n",
      "       'RAS2', 'SMSK1', 'SMSK4', 'IE2', 'TL1', 'RAS3', 'IE3', 'RAS4', 'RAS5',\n",
      "       'IE4', 'SMSK2', 'TL2', 'TL3', 'PSD1', 'PSD2', 'PSD3', 'IE5', 'PSD4',\n",
      "       'PSD5', 'IM1', 'IM2', 'IM3', 'IM4', 'IM5', 'IM6', 'W1', 'W2', 'W3',\n",
      "       'Employed', 'Score', 'Class'],\n",
      "      dtype='object')\n",
      "Lignes dupliquées :\n",
      "     Gender  Nationality  Major  Level  IE1  SMSK3  RAS1  RAS2  SMSK1  SMSK4  \\\n",
      "216       0            0      1      3    4      4     4     4      4      4   \n",
      "217       0            0      1      3    4      4     4     4      4      4   \n",
      "218       0            0      1      3    3      4     3     3      3      3   \n",
      "219       0            0      1      3    4      4     4     4      4      4   \n",
      "220       0            0      1      3    4      4     4     4      2      4   \n",
      "235       1            0      1      2    4      3     3     4      3      4   \n",
      "236       1            1      1      2    3      3     3     3      2      2   \n",
      "237       1            0      1      2    3      3     4     4      3      3   \n",
      "240       1            0      1      2    4      3     4     4      2      3   \n",
      "241       1            0      1      2    4      4     4     4      4      4   \n",
      "246       0            1      0      2    4      4     3     3      4      3   \n",
      "247       1            1      0      2    4      4     4     4      3      3   \n",
      "248       1            1      0      2    3      3     4     4      2      3   \n",
      "249       0            1      0      2    3      3     3     4      4      2   \n",
      "\n",
      "     ...  IM3  IM4  IM5  IM6   W1   W2   W3  Employed  Score  Class  \n",
      "216  ...    4    3    4    4  4.0  4.0  NaN       1.0   3.51      0  \n",
      "217  ...    4    4    4    4  4.0  3.0  3.0       1.0   3.51      1  \n",
      "218  ...    3    3    3    4  3.0  3.0  NaN       0.0   3.51      0  \n",
      "219  ...    4    4    4    4  4.0  4.0  4.0       1.0   3.51      1  \n",
      "220  ...    4    4    4    2  3.0  3.0  4.0       1.0   3.51      1  \n",
      "235  ...    4    4    3    4  4.0  3.0  NaN       1.0   3.51      1  \n",
      "236  ...    2    4    4    1  4.0  3.0  3.0       1.0   3.51      0  \n",
      "237  ...    4    4    4    4  3.0  3.0  2.0       0.0   3.51      1  \n",
      "240  ...    4    4    3    2  1.0  3.0  NaN       0.0   3.51      1  \n",
      "241  ...    4    4    4    4  4.0  4.0  2.0       0.0   3.51      1  \n",
      "246  ...    3    3    3    4  4.0  4.0  NaN       1.0   3.51      0  \n",
      "247  ...    4    3    4    4  4.0  4.0  1.0       1.0   3.51      1  \n",
      "248  ...    3    2    3    2  2.0  1.0  1.0       1.0   3.51      0  \n",
      "249  ...    4    4    4    4  4.0  4.0  1.0       1.0   3.51      1  \n",
      "\n",
      "[14 rows x 38 columns]\n"
     ]
    }
   ],
   "source": [
    "# Supprimer ID car il n’a pas de rôle dans la classification\n",
    "df.drop(columns=['ID'], inplace=True, errors='ignore')\n",
    "print(df.columns)\n",
    "\n",
    "# Afficher les lignes dupliquées\n",
    "duplicates = df[df.duplicated()]\n",
    "print(\"Lignes dupliquées :\")\n",
    "print(duplicates)\n",
    "\n",
    "\n",
    "# supprimer les lignes dupliquées\n",
    "df= df.drop_duplicates()\n"
   ]
  },
  {
   "cell_type": "markdown",
   "id": "898a821f",
   "metadata": {},
   "source": [
    "--> 14 lignes dupliquées"
   ]
  },
  {
   "cell_type": "markdown",
   "id": "0f1d7ad8",
   "metadata": {},
   "source": [
    "2. Type des données"
   ]
  },
  {
   "cell_type": "code",
   "execution_count": 10,
   "id": "82fa3a5f",
   "metadata": {},
   "outputs": [
    {
     "name": "stdout",
     "output_type": "stream",
     "text": [
      "\n",
      "Types des colonnes :\n",
      "Gender           int64\n",
      "Nationality      int64\n",
      "Major            int64\n",
      "Level            int64\n",
      "IE1              int64\n",
      "SMSK3            int64\n",
      "RAS1             int64\n",
      "RAS2             int64\n",
      "SMSK1            int64\n",
      "SMSK4            int64\n",
      "IE2              int64\n",
      "TL1              int64\n",
      "RAS3             int64\n",
      "IE3              int64\n",
      "RAS4             int64\n",
      "RAS5             int64\n",
      "IE4              int64\n",
      "SMSK2            int64\n",
      "TL2              int64\n",
      "TL3              int64\n",
      "PSD1             int64\n",
      "PSD2             int64\n",
      "PSD3             int64\n",
      "IE5              int64\n",
      "PSD4             int64\n",
      "PSD5             int64\n",
      "IM1              int64\n",
      "IM2              int64\n",
      "IM3              int64\n",
      "IM4              int64\n",
      "IM5              int64\n",
      "IM6              int64\n",
      "W1             float64\n",
      "W2             float64\n",
      "W3             float64\n",
      "Employed       float64\n",
      "Score          float64\n",
      "Class            int64\n",
      "dtype: object\n",
      "Types de données distincts : [dtype('int64') dtype('float64')]\n"
     ]
    }
   ],
   "source": [
    "# Afficher les colonnes et leur type\n",
    "print(\"\\nTypes des colonnes :\")\n",
    "print(df.dtypes)\n",
    "# Affiche les types distincts uniquement\n",
    "types_uniques = df.dtypes.unique()\n",
    "print(f\"Types de données distincts : {types_uniques}\")\n"
   ]
  },
  {
   "cell_type": "markdown",
   "id": "ffb76d96",
   "metadata": {},
   "source": [
    " --> Pas de colonnes catégorielles explicites dans le dataset"
   ]
  },
  {
   "cell_type": "markdown",
   "id": "96b1aea5",
   "metadata": {},
   "source": [
    "3. Outliers"
   ]
  },
  {
   "cell_type": "code",
   "execution_count": 11,
   "id": "89fc484e",
   "metadata": {},
   "outputs": [
    {
     "name": "stdout",
     "output_type": "stream",
     "text": [
      "--- Gender ---\n",
      "[0 1]\n",
      "--- Nationality ---\n",
      "[1 0]\n",
      "--- Major ---\n",
      "[0 1]\n",
      "--- Level ---\n",
      "[2 1 3]\n",
      "--- IE1 ---\n",
      "[4 3 2 1]\n",
      "--- SMSK3 ---\n",
      "[3 4 2 1]\n",
      "--- RAS1 ---\n",
      "[4 3 2 1]\n",
      "--- RAS2 ---\n",
      "[4 3 2 1]\n",
      "--- SMSK1 ---\n",
      "[2 3 4 1]\n",
      "--- SMSK4 ---\n",
      "[3 4 2 1]\n",
      "--- IE2 ---\n",
      "[3 4 2 1]\n",
      "--- TL1 ---\n",
      "[3 4 2 1]\n",
      "--- RAS3 ---\n",
      "[4 3 2 1]\n",
      "--- IE3 ---\n",
      "[3 4 2 1]\n",
      "--- RAS4 ---\n",
      "[3 4 2 1]\n",
      "--- RAS5 ---\n",
      "[2 3 4 1]\n",
      "--- IE4 ---\n",
      "[4 3 2 1]\n",
      "--- SMSK2 ---\n",
      "[3 4 2 1]\n",
      "--- TL2 ---\n",
      "[3 4 2 1]\n",
      "--- TL3 ---\n",
      "[4 3 2 1]\n",
      "--- PSD1 ---\n",
      "[3 4 2 1]\n",
      "--- PSD2 ---\n",
      "[3 4 2 1]\n",
      "--- PSD3 ---\n",
      "[4 3 2 1]\n",
      "--- IE5 ---\n",
      "[3 4 2 1]\n",
      "--- PSD4 ---\n",
      "[3 4 2 1]\n",
      "--- PSD5 ---\n",
      "[3 4 2 1]\n",
      "--- IM1 ---\n",
      "[4 3 2 1]\n",
      "--- IM2 ---\n",
      "[4 3 2 1]\n",
      "--- IM3 ---\n",
      "[4 3 1 2]\n",
      "--- IM4 ---\n",
      "[4 3 2 1]\n",
      "--- IM5 ---\n",
      "[4 3 2 1]\n",
      "--- IM6 ---\n",
      "[4 3 2 1]\n",
      "--- W1 ---\n",
      "[ 4.  3.  2. nan  1.]\n",
      "--- W2 ---\n",
      "[ 4.  3.  2. nan  1.]\n",
      "--- W3 ---\n",
      "[ 4.  3.  2. nan  1.]\n",
      "--- Employed ---\n",
      "[ 1.  0. nan]\n",
      "--- Score ---\n",
      "[3.2  3.82 3.75 3.7  3.68 3.83 3.27 3.   3.85 3.89 3.35 3.55 3.25 3.5\n",
      " 3.67 3.59 3.78 3.23 3.44 3.32 3.45 4.   3.77 3.56 3.49 3.29 3.4  3.94\n",
      " 3.65 3.18 3.19 3.14 3.21 3.22 3.42 3.28 3.81 3.6  3.06 3.58 3.95 3.69\n",
      " 0.   3.31 3.64 3.61 3.24 3.57 3.8  3.76 3.05 3.88 3.08 3.48 3.38 3.97\n",
      " 2.61 3.71 3.92 3.33 3.52 3.13 2.93 3.73 3.54 3.96 3.17 3.91 3.43 3.34\n",
      " 3.51 3.36 3.87]\n",
      "--- Class ---\n",
      "[1 0]\n"
     ]
    }
   ],
   "source": [
    "for col in df.columns:\n",
    "    print(f\"--- {col} ---\")\n",
    "    print(df[col].unique())\n",
    "   \n"
   ]
  },
  {
   "cell_type": "markdown",
   "id": "bdf31eba",
   "metadata": {},
   "source": [
    "outliers de colonne score "
   ]
  },
  {
   "cell_type": "code",
   "execution_count": 12,
   "id": "c1ef2475",
   "metadata": {},
   "outputs": [
    {
     "name": "stdout",
     "output_type": "stream",
     "text": [
      "Q1 (25%): 3.405\n",
      "Q3 (75%): 3.75\n",
      "IQR: 0.3450000000000002\n",
      "Borne inférieure: 2.8874999999999993\n",
      "Borne supérieure: 4.2675\n",
      "Nombre d'outliers détectés dans 'Score' : 4\n",
      "Nombre de lignes après suppression : 242\n"
     ]
    }
   ],
   "source": [
    "# Extraire la colonne Score\n",
    "score_col = df['Score']\n",
    "\n",
    "# Calcul des quartiles\n",
    "Q1 = score_col.quantile(0.25)\n",
    "Q3 = score_col.quantile(0.75)\n",
    "IQR = Q3 - Q1\n",
    "\n",
    "# Bornes pour détecter les outliers\n",
    "lower_bound = Q1 - 1.5 * IQR\n",
    "upper_bound = Q3 + 1.5 * IQR\n",
    "\n",
    "print(f\"Q1 (25%): {Q1}\")\n",
    "print(f\"Q3 (75%): {Q3}\")\n",
    "print(f\"IQR: {IQR}\")\n",
    "print(f\"Borne inférieure: {lower_bound}\")\n",
    "print(f\"Borne supérieure: {upper_bound}\")\n",
    "\n",
    "# Identifier les outliers\n",
    "outliers = df[(df['Score'] < lower_bound) | (df['Score'] > upper_bound)]\n",
    "print(f\"Nombre d'outliers détectés dans 'Score' : {len(outliers)}\")\n",
    "\n",
    "# Supprimer les outliers du DataFrame\n",
    "df_clean = df[~((df['Score'] < lower_bound) | (df['Score'] > upper_bound))].copy()\n",
    "print(f\"Nombre de lignes après suppression : {len(df_clean)}\")"
   ]
  },
  {
   "cell_type": "code",
   "execution_count": 13,
   "id": "5e17fa6a",
   "metadata": {},
   "outputs": [
    {
     "name": "stdout",
     "output_type": "stream",
     "text": [
      "Colonnes avec des valeurs manquantes :\n",
      "W1          19\n",
      "W2          14\n",
      "W3          45\n",
      "Employed     2\n",
      "dtype: int64\n"
     ]
    }
   ],
   "source": [
    "# Vérifier les valeurs manquantes par colonne\n",
    "valeurs_nulles = df.isnull().sum()\n",
    "\n",
    "# Filtrer uniquement les colonnes qui ont au moins une valeur manquante\n",
    "colonnes_avec_nulles = valeurs_nulles[valeurs_nulles > 0]\n",
    "\n",
    "# Afficher le résultat\n",
    "print(\"Colonnes avec des valeurs manquantes :\")\n",
    "print(colonnes_avec_nulles)"
   ]
  },
  {
   "cell_type": "markdown",
   "id": "f029b798",
   "metadata": {},
   "source": [
    "W1, W2, W3 : Scores (échelle 1 à 4)probablement des évaluations \n",
    "--> Remplacer par médiane,Moins sensible aux valeurs extrêmes\n",
    "\n",
    "Employed:\tBinaire (0 ou 1)\t\n",
    "--> Remplacer par mode\tTrès peu de NaN, variable discrèt\n"
   ]
  },
  {
   "cell_type": "code",
   "execution_count": 14,
   "id": "8f795aba",
   "metadata": {},
   "outputs": [
    {
     "name": "stdout",
     "output_type": "stream",
     "text": [
      "\n",
      "Valeurs manquantes après traitement :\n",
      "W1          0\n",
      "W2          0\n",
      "W3          0\n",
      "Employed    0\n",
      "dtype: int64\n"
     ]
    },
    {
     "name": "stderr",
     "output_type": "stream",
     "text": [
      "C:\\Users\\ghofr\\AppData\\Local\\Temp\\ipykernel_23584\\81123166.py:2: FutureWarning: A value is trying to be set on a copy of a DataFrame or Series through chained assignment using an inplace method.\n",
      "The behavior will change in pandas 3.0. This inplace method will never work because the intermediate object on which we are setting values always behaves as a copy.\n",
      "\n",
      "For example, when doing 'df[col].method(value, inplace=True)', try using 'df.method({col: value}, inplace=True)' or df[col] = df[col].method(value) instead, to perform the operation inplace on the original object.\n",
      "\n",
      "\n",
      "  df['W1'].fillna(df['W1'].median(), inplace=True)\n",
      "C:\\Users\\ghofr\\AppData\\Local\\Temp\\ipykernel_23584\\81123166.py:3: FutureWarning: A value is trying to be set on a copy of a DataFrame or Series through chained assignment using an inplace method.\n",
      "The behavior will change in pandas 3.0. This inplace method will never work because the intermediate object on which we are setting values always behaves as a copy.\n",
      "\n",
      "For example, when doing 'df[col].method(value, inplace=True)', try using 'df.method({col: value}, inplace=True)' or df[col] = df[col].method(value) instead, to perform the operation inplace on the original object.\n",
      "\n",
      "\n",
      "  df['W2'].fillna(df['W2'].median(), inplace=True)\n",
      "C:\\Users\\ghofr\\AppData\\Local\\Temp\\ipykernel_23584\\81123166.py:4: FutureWarning: A value is trying to be set on a copy of a DataFrame or Series through chained assignment using an inplace method.\n",
      "The behavior will change in pandas 3.0. This inplace method will never work because the intermediate object on which we are setting values always behaves as a copy.\n",
      "\n",
      "For example, when doing 'df[col].method(value, inplace=True)', try using 'df.method({col: value}, inplace=True)' or df[col] = df[col].method(value) instead, to perform the operation inplace on the original object.\n",
      "\n",
      "\n",
      "  df['W3'].fillna(df['W3'].median(), inplace=True)\n",
      "C:\\Users\\ghofr\\AppData\\Local\\Temp\\ipykernel_23584\\81123166.py:7: FutureWarning: A value is trying to be set on a copy of a DataFrame or Series through chained assignment using an inplace method.\n",
      "The behavior will change in pandas 3.0. This inplace method will never work because the intermediate object on which we are setting values always behaves as a copy.\n",
      "\n",
      "For example, when doing 'df[col].method(value, inplace=True)', try using 'df.method({col: value}, inplace=True)' or df[col] = df[col].method(value) instead, to perform the operation inplace on the original object.\n",
      "\n",
      "\n",
      "  df['Employed'].fillna(df['Employed'].mode()[0], inplace=True)\n"
     ]
    }
   ],
   "source": [
    "# Remplacer W1, W2, W3 par la médiane\n",
    "df['W1'].fillna(df['W1'].median(), inplace=True)\n",
    "df['W2'].fillna(df['W2'].median(), inplace=True)\n",
    "df['W3'].fillna(df['W3'].median(), inplace=True) \n",
    "\n",
    "# Remplacer Employed par le mode\n",
    "df['Employed'].fillna(df['Employed'].mode()[0], inplace=True)\n",
    "\n",
    "# Vérifier après traitement\n",
    "print(\"\\nValeurs manquantes après traitement :\")\n",
    "print(df[['W1', 'W2', 'W3', 'Employed']].isnull().sum())"
   ]
  },
  {
   "cell_type": "code",
   "execution_count": 15,
   "id": "19c0a7b1",
   "metadata": {},
   "outputs": [
    {
     "name": "stdout",
     "output_type": "stream",
     "text": [
      "W1          0.155886\n",
      "W2          0.360766\n",
      "W3          0.091837\n",
      "Employed    0.111538\n",
      "Class       1.000000\n",
      "Name: Class, dtype: float64\n"
     ]
    }
   ],
   "source": [
    "# Corrélation entre les variables et la classe cible\n",
    "print(df[['W1', 'W2', 'W3', 'Employed', 'Class']].corr()['Class'])\n"
   ]
  },
  {
   "cell_type": "markdown",
   "id": "8befdc8e",
   "metadata": {},
   "source": [
    "W3 a :\n",
    "- Un taux élevé de valeurs manquantes (~18 %)\n",
    "+ Une corrélation très faible avec Class (0.08)\n",
    "\n",
    "donc Il est justifié de supprimer W3 du jeu de données sans trop perdre d'information utile.\n",
    "\n",
    "Supprimer ID car il n’a pas de rôle dans la classification\n"
   ]
  },
  {
   "cell_type": "code",
   "execution_count": 16,
   "id": "c6509a9f",
   "metadata": {},
   "outputs": [
    {
     "name": "stdout",
     "output_type": "stream",
     "text": [
      "Index(['Gender', 'Nationality', 'Major', 'Level', 'IE1', 'SMSK3', 'RAS1',\n",
      "       'RAS2', 'SMSK1', 'SMSK4', 'IE2', 'TL1', 'RAS3', 'IE3', 'RAS4', 'RAS5',\n",
      "       'IE4', 'SMSK2', 'TL2', 'TL3', 'PSD1', 'PSD2', 'PSD3', 'IE5', 'PSD4',\n",
      "       'PSD5', 'IM1', 'IM2', 'IM3', 'IM4', 'IM5', 'IM6', 'W1', 'W2',\n",
      "       'Employed', 'Score', 'Class'],\n",
      "      dtype='object')\n",
      "\n",
      "Dimensions du dataset : (246, 37)\n"
     ]
    }
   ],
   "source": [
    "# Supprimer ID car il n’a pas de rôle dans la classification\n",
    "df.drop(columns=['W3'], inplace=True, errors='ignore')\n",
    "print(df.columns)\n",
    "print(\"\\nDimensions du dataset :\", df.shape)\n"
   ]
  },
  {
   "cell_type": "markdown",
   "id": "153e8093",
   "metadata": {},
   "source": [
    "la distribution des classes"
   ]
  },
  {
   "cell_type": "code",
   "execution_count": 17,
   "id": "3902178a",
   "metadata": {},
   "outputs": [
    {
     "name": "stdout",
     "output_type": "stream",
     "text": [
      "Distribution des classes :\n",
      "Class\n",
      "0    128\n",
      "1    118\n",
      "Name: count, dtype: int64\n",
      "\n",
      "Pourcentage par classe :\n",
      "Class\n",
      "0    52.03\n",
      "1    47.97\n",
      "Name: proportion, dtype: float64\n"
     ]
    },
    {
     "name": "stderr",
     "output_type": "stream",
     "text": [
      "C:\\Users\\ghofr\\AppData\\Local\\Temp\\ipykernel_23584\\178382579.py:13: FutureWarning: \n",
      "\n",
      "Passing `palette` without assigning `hue` is deprecated and will be removed in v0.14.0. Assign the `x` variable to `hue` and set `legend=False` for the same effect.\n",
      "\n",
      "  sns.countplot(x='Class', data=df, palette='Set2')\n"
     ]
    },
    {
     "data": {
      "image/png": "[encoded data removed]",
      "text/plain": [
       "<Figure size 800x500 with 1 Axes>"
      ]
     },
     "metadata": {},
     "output_type": "display_data"
    }
   ],
   "source": [
    "# Vérifier la distribution des classes\n",
    "class_distribution = df['Class'].value_counts()\n",
    "print(\"Distribution des classes :\")\n",
    "print(class_distribution)\n",
    "\n",
    "# Afficher les pourcentages\n",
    "class_percentage = df['Class'].value_counts(normalize=True) * 100\n",
    "print(\"\\nPourcentage par classe :\")\n",
    "print(class_percentage.round(2))\n",
    "\n",
    "# Visualisation sous forme de graphique à barres\n",
    "plt.figure(figsize=(8, 5))\n",
    "sns.countplot(x='Class', data=df, palette='Set2')\n",
    "plt.title(\"Distribution des classes (0 vs 1)\")\n",
    "plt.xlabel(\"Classe\")\n",
    "plt.ylabel(\"Nombre d'échantillons\")\n",
    "plt.xticks([0, 1], ['Classe 0', 'Classe 1'])\n",
    "plt.show()\n",
    "\n"
   ]
  },
  {
   "cell_type": "markdown",
   "id": "2ff1f7b9",
   "metadata": {},
   "source": [
    "-->le dataset est approximativement équilibré  avec une légère majorité pour la classe 0"
   ]
  },
  {
   "cell_type": "markdown",
   "id": "21b5f705",
   "metadata": {},
   "source": [
    "Slection des colonnes pertinantes\n",
    "----------------------------------"
   ]
  },
  {
   "cell_type": "code",
   "execution_count": 18,
   "id": "7e018d58",
   "metadata": {},
   "outputs": [
    {
     "name": "stdout",
     "output_type": "stream",
     "text": [
      "\n",
      "Corrélation avec Class :\n",
      "Class          1.000000\n",
      "IM5            0.662345\n",
      "IM2            0.631967\n",
      "IM6            0.631752\n",
      "IM1            0.565969\n",
      "IM4            0.562259\n",
      "PSD4           0.489854\n",
      "IE3            0.463506\n",
      "IM3            0.458289\n",
      "IE5            0.441001\n",
      "PSD3           0.389568\n",
      "TL2            0.379572\n",
      "IE4            0.379088\n",
      "PSD5           0.370032\n",
      "SMSK2          0.365342\n",
      "W2             0.360766\n",
      "SMSK1          0.352622\n",
      "IE1            0.342317\n",
      "SMSK3          0.342079\n",
      "RAS3           0.336907\n",
      "PSD2           0.333160\n",
      "TL1            0.309792\n",
      "RAS4           0.307397\n",
      "RAS1           0.293767\n",
      "PSD1           0.291010\n",
      "SMSK4          0.290698\n",
      "TL3            0.289496\n",
      "IE2            0.234836\n",
      "RAS5           0.212977\n",
      "RAS2           0.200330\n",
      "W1             0.155886\n",
      "Employed       0.111538\n",
      "Nationality    0.079912\n",
      "Score          0.068210\n",
      "Gender         0.057801\n",
      "Major         -0.127969\n",
      "Level         -0.193994\n",
      "Name: Class, dtype: float64\n"
     ]
    },
    {
     "data": {
      "image/png": "[encoded data removed]",
      "text/plain": [
       "<Figure size 1400x800 with 2 Axes>"
      ]
     },
     "metadata": {},
     "output_type": "display_data"
    }
   ],
   "source": [
    "\n",
    "# Calculer la corrélation avec Class\n",
    "correlation_with_class = df.corr()['Class'].sort_values(ascending=False)\n",
    "print(\"\\nCorrélation avec Class :\")\n",
    "print(correlation_with_class)\n",
    "\n",
    "# Visualiser sous forme de heatmap (facultatif)\n",
    "plt.figure(figsize=(14, 8))\n",
    "sns.heatmap(df.corr(), cmap='coolwarm', annot=False)\n",
    "plt.title(\"Matrice de corrélation\")\n",
    "plt.show()"
   ]
  },
  {
   "cell_type": "markdown",
   "id": "e6274027",
   "metadata": {},
   "source": [
    "Les colonnes très corrélées avec Class incluent :\n",
    "IM5, IM2, PSD4, IE3, RAS3, TL1, W2,...\n",
    "Ces colonnes sont les plus influentes pour prédire la classe .\n",
    "\n",
    "['Major', 'Level']   Faiblement négatives, mais peuvent avoir un sens métier"
   ]
  },
  {
   "cell_type": "code",
   "execution_count": 19,
   "id": "bcc2b8e9",
   "metadata": {},
   "outputs": [
    {
     "name": "stdout",
     "output_type": "stream",
     "text": [
      "\n",
      "Colonnes sélectionnées pour le modèle :\n",
      "['IM5', 'IM2', 'IM6', 'IM1', 'IM4', 'PSD4', 'IE3', 'IM3', 'IE5', 'PSD3', 'TL2', 'IE4', 'PSD5', 'SMSK2', 'W2', 'SMSK1', 'IE1', 'SMSK3', 'RAS3', 'PSD2', 'TL1', 'RAS4', 'Major', 'Level']\n"
     ]
    }
   ],
   "source": [
    "# Filtrer les colonnes corrélées avec Class (> 0.3)\n",
    "threshold = 0.3\n",
    "important_columns = correlation_with_class[abs(correlation_with_class) > threshold].index.tolist()\n",
    "\n",
    "# Supprimer 'Class' de cette liste si elle y est\n",
    "if 'Class' in important_columns:\n",
    "    important_columns.remove('Class')\n",
    "\n",
    "# Ajouter 'major' et 'level' à la liste des colonnes importantes\n",
    "important_columns.extend(['Major', 'Level'])\n",
    "\n",
    "# Afficher les colonnes sélectionnées\n",
    "print(\"\\nColonnes sélectionnées pour le modèle :\")\n",
    "print(important_columns)\n",
    "\n"
   ]
  },
  {
   "cell_type": "code",
   "execution_count": 20,
   "id": "7d06a3d5",
   "metadata": {},
   "outputs": [],
   "source": [
    "\n",
    "# Créer le nouveau DataFrame\n",
    "X = df[important_columns]\n",
    "y = df['Class']\n",
    "\n",
    "\n",
    "\n",
    "# Division train/test\n",
    "X_train, X_test, y_train, y_test = train_test_split(X, y, test_size=0.2, random_state=42)\n"
   ]
  },
  {
   "cell_type": "code",
   "execution_count": 21,
   "id": "f081b832",
   "metadata": {},
   "outputs": [
    {
     "name": "stdout",
     "output_type": "stream",
     "text": [
      "\n",
      "Entraînement du modèle : Random Forest\n",
      "Random Forest - F1 Score (Macro): 0.9600\n",
      "\n",
      "Entraînement du modèle : SVM\n",
      "SVM - F1 Score (Macro): 0.9400\n",
      "\n",
      "Entraînement du modèle : KNN\n",
      "KNN - F1 Score (Macro): 0.8595\n",
      "\n",
      "Entraînement du modèle : Logistic Regression\n",
      "Logistic Regression - F1 Score (Macro): 0.9000\n",
      "\n",
      "Entraînement du modèle : Neural Network (MLP)\n",
      "Neural Network (MLP) - F1 Score (Macro): 0.9199\n",
      "\n",
      "Entraînement du modèle : XGBoost\n",
      "XGBoost - F1 Score (Macro): 0.9199\n"
     ]
    },
    {
     "name": "stderr",
     "output_type": "stream",
     "text": [
      "C:\\Users\\ghofr\\AppData\\Roaming\\Python\\Python313\\site-packages\\xgboost\\training.py:183: UserWarning: [16:31:59] WARNING: C:\\actions-runner\\_work\\xgboost\\xgboost\\src\\learner.cc:738: \n",
      "Parameters: { \"use_label_encoder\" } are not used.\n",
      "\n",
      "  bst.update(dtrain, iteration=i, fobj=obj)\n"
     ]
    }
   ],
   "source": [
    "\n",
    "# Définir les modèles\n",
    "models = {\n",
    "    \"Random Forest\": RandomForestClassifier(random_state=42),\n",
    "    \"SVM\": SVC(kernel='rbf', random_state=42),\n",
    "    \"KNN\": KNeighborsClassifier(n_neighbors=5),\n",
    "    \"Logistic Regression\": LogisticRegression(penalty='l2', solver='liblinear', random_state=42),\n",
    "    \"Neural Network (MLP)\": MLPClassifier(hidden_layer_sizes=(64, 32), max_iter=1000, random_state=42),\n",
    "    \"XGBoost\": XGBClassifier(use_label_encoder=False, eval_metric='logloss', random_state=42)  \n",
    "}\n",
    "\n",
    "# Normalisation (important pour SVM, KNN et MLP)\n",
    "scaler = StandardScaler()\n",
    "X_train_scaled = scaler.fit_transform(X_train)\n",
    "X_test_scaled = scaler.transform(X_test)\n",
    "\n",
    "# Entraîner et évaluer chaque modèle\n",
    "results = {}\n",
    "\n",
    "for name, model in models.items():\n",
    "    print(f\"\\nEntraînement du modèle : {name}\")\n",
    "\n",
    "    # Pas besoin de normaliser pour Random Forest, Logistic Regression et XGBoost\n",
    "    if name in [\"Random Forest\", \"Logistic Regression\", \"XGBoost\"]:\n",
    "        model.fit(X_train, y_train)\n",
    "        y_pred = model.predict(X_test)\n",
    "    else:\n",
    "        model.fit(X_train_scaled, y_train)\n",
    "        y_pred = model.predict(X_test_scaled)\n",
    "    \n",
    "    f1 = f1_score(y_test, y_pred, average='macro')\n",
    "    results[name] = f1\n",
    "    print(f\"{name} - F1 Score (Macro): {f1:.4f}\")\n"
   ]
  },
  {
   "cell_type": "code",
   "execution_count": 23,
   "id": "e5cfb000",
   "metadata": {},
   "outputs": [
    {
     "data": {
      "image/png": "[encoded data removed]",
      "text/plain": [
       "<Figure size 1000x600 with 1 Axes>"
      ]
     },
     "metadata": {},
     "output_type": "display_data"
    }
   ],
   "source": [
    "\n",
    "# Afficher les scores F1 obtenus\n",
    "plt.figure(figsize=(10, 6))\n",
    "plt.bar(results.keys(), results.values(), color=['skyblue', 'salmon', 'lightgreen', 'orange','red','blue'])\n",
    "plt.title(\"Comparaison des modèles par F1 Score (Macro)\")\n",
    "plt.ylabel(\"F1 Score\")\n",
    "plt.ylim(0.7, 1.0)\n",
    "plt.grid(True)\n",
    "plt.show()"
   ]
  },
  {
   "cell_type": "markdown",
   "id": "bc20caac",
   "metadata": {},
   "source": [
    "Random Forest (0.9600) :\n",
    "\n",
    "Meilleure performance globale.\n",
    "\n",
    "Excellente capacité à capturer les relations complexes et non linéaires.\n",
    "\n",
    "Robuste face au surapprentissage, surtout avec un petit dataset (240 lignes).\n",
    "\n",
    "Peu sensible à la mise à l’échelle des données."
   ]
  }
 ],
 "metadata": {
  "kernelspec": {
   "display_name": "Python 3",
   "language": "python",
   "name": "python3"
  },
  "language_info": {
   "codemirror_mode": {
    "name": "ipython",
    "version": 3
   },
   "file_extension": ".py",
   "mimetype": "text/x-python",
   "name": "python",
   "nbconvert_exporter": "python",
   "pygments_lexer": "ipython3",
   "version": "3.13.3"
  }
 },
 "nbformat": 4,
 "nbformat_minor": 5
}
